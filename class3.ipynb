{
 "cells": [
  {
   "cell_type": "code",
   "execution_count": null,
   "metadata": {},
   "outputs": [],
   "source": [
    "import tkinter as tk\n",
    "from tkinter import ttk\n",
    "from tkinter import *\n",
    "#creating instance\n",
    "win=Tk()\n",
    "#adding textbox\n",
    "name = tk.StringVar()\n",
    "name_entered= tk.Entry(win, width=12, textvariable=name)\n",
    "name_entered.grid(column=0,row=2)\n",
    "#adding function\n",
    "def click_me():\n",
    "    btn.configure(text=\"hello\"+ ' ' + name.get() + ' ' +number_choosen.get())\n",
    "   \n",
    " # mylabel.configure(text=\"9\")\n",
    "#adding button\n",
    "btn=tk.Button(win, text=\"click me\",bg=\"orange\",fg=\"white\",  command=click_me)\n",
    "btn.grid(column=2,row=2)\n",
    "#adding label\n",
    "tk.Label(win, text=\"choose a no\").grid(column=1,row=1)\n",
    "tk.Label(win, text=\"enter a name\").grid(column=0,row=1)\n",
    "#dropdown\n",
    "number= tk.StringVar()\n",
    "number_choosen=ttk.Combobox(win,width=12,textvariable=number)\n",
    "number_choosen['values']=(0,22,44,55,66)\n",
    "number_choosen.grid(column=1, row=2)\n",
    "number_choosen.current(0)\n",
    "name_entered.focus_set()\n",
    "\n",
    "win.mainloop()"
   ]
  },
  {
   "cell_type": "code",
   "execution_count": null,
   "metadata": {},
   "outputs": [],
   "source": []
  },
  {
   "cell_type": "code",
   "execution_count": null,
   "metadata": {},
   "outputs": [],
   "source": []
  }
 ],
 "metadata": {
  "kernelspec": {
   "display_name": "Python 3",
   "language": "python",
   "name": "python3"
  },
  "language_info": {
   "codemirror_mode": {
    "name": "ipython",
    "version": 3
   },
   "file_extension": ".py",
   "mimetype": "text/x-python",
   "name": "python",
   "nbconvert_exporter": "python",
   "pygments_lexer": "ipython3",
   "version": "3.7.4"
  }
 },
 "nbformat": 4,
 "nbformat_minor": 2
}
